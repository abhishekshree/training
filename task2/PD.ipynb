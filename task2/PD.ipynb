{
 "cells": [
  {
   "cell_type": "code",
   "execution_count": 3,
   "id": "0efbc468",
   "metadata": {},
   "outputs": [],
   "source": [
    "import time as clock\n",
    "from datetime import *\n",
    "import matplotlib.pyplot as plt"
   ]
  },
  {
   "cell_type": "code",
   "execution_count": 9,
   "id": "7f0a8ea8",
   "metadata": {},
   "outputs": [
    {
     "name": "stdout",
     "output_type": "stream",
     "text": [
      "Cycle 0 of 20\n",
      "Cycle 1 of 20\n",
      "Cycle 2 of 20\n",
      "Cycle 3 of 20\n",
      "Cycle 4 of 20\n",
      "Cycle 5 of 20\n",
      "Cycle 6 of 20\n",
      "Cycle 7 of 20\n",
      "Cycle 8 of 20\n",
      "Cycle 9 of 20\n",
      "Cycle 10 of 20\n",
      "Cycle 11 of 20\n",
      "Cycle 12 of 20\n",
      "Cycle 13 of 20\n",
      "Cycle 14 of 20\n",
      "Cycle 15 of 20\n",
      "Cycle 16 of 20\n",
      "Cycle 17 of 20\n",
      "Cycle 18 of 20\n",
      "Cycle 19 of 20\n"
     ]
    },
    {
     "data": {
      "text/plain": [
       "[<matplotlib.lines.Line2D at 0x214dbf0a430>]"
      ]
     },
     "execution_count": 9,
     "metadata": {},
     "output_type": "execute_result"
    },
    {
     "data": {
      "image/png": "[encoded data removed]",
      "text/plain": [
       "<Figure size 432x288 with 1 Axes>"
      ]
     },
     "metadata": {
      "needs_background": "light"
     },
     "output_type": "display_data"
    }
   ],
   "source": [
    "kp = .5  # proportion constant\t\n",
    "kd = .2 # dirivitave constant; rate of change\n",
    "\n",
    "length        = 20\n",
    "timeStep      = 1    #speed of time for the simulation\n",
    "currentPoint  = 0    #the current position\n",
    "desiredPoint  = 100   #the goal\n",
    "\n",
    "tElap=0              \n",
    "lastTelap = 0\n",
    "error = 0\n",
    "rateError = 0\n",
    "lastError = 0\n",
    "pointHistory = []\n",
    "cycles = 0\n",
    "while(cycles < length):\n",
    "    print(\"Cycle \"+str(cycles)+\" of \"+ str(length))\n",
    "    cycles+=1\n",
    "    \n",
    "    #time\n",
    "    lastTelap = tElap\n",
    "    clock.sleep(timeStep)\n",
    "    tElap += timeStep\n",
    "    \n",
    "    #PID Controller\n",
    "    error = desiredPoint-currentPoint                              # P\n",
    "\n",
    "    rateError = (error-lastError)/(tElap-lastTelap)                # D\n",
    "\n",
    "    out = kp*error + kd*rateError                                  # Combined values\n",
    "\n",
    "    currentPoint+= out\n",
    "    pointHistory.append(currentPoint)\n",
    "    lastError = error\n",
    "    if desiredPoint-currentPoint < sensitivity and sensitivityEnabled == True:\n",
    "        break\n",
    "\n",
    "plt.plot(pointHistory)"
   ]
  },
  {
   "cell_type": "code",
   "execution_count": null,
   "id": "fd7deb06",
   "metadata": {},
   "outputs": [],
   "source": []
  }
 ],
 "metadata": {
  "kernelspec": {
   "display_name": "Python 3",
   "language": "python",
   "name": "python3"
  },
  "language_info": {
   "codemirror_mode": {
    "name": "ipython",
    "version": 3
   },
   "file_extension": ".py",
   "mimetype": "text/x-python",
   "name": "python",
   "nbconvert_exporter": "python",
   "pygments_lexer": "ipython3",
   "version": "3.8.8"
  }
 },
 "nbformat": 4,
 "nbformat_minor": 5
}
